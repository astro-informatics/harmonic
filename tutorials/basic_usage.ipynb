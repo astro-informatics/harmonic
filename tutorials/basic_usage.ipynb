{
 "cells": [
  {
   "cell_type": "markdown",
   "metadata": {},
   "source": [
    "[![Open In Colab](https://colab.research.google.com/assets/colab-badge.svg)](https://colab.research.google.com/github/astro-informatics/harmonic/blob/main/notebooks/basic_usage.ipynb)"
   ]
  },
  {
   "cell_type": "markdown",
   "metadata": {},
   "source": [
    "# Basic usage "
   ]
  },
  {
   "cell_type": "markdown",
   "metadata": {},
   "source": [
    "In this tutorial we demonstrate basic usage of harmonic, using [emcee](https://emcee.readthedocs.io/en/stable/) as the sampler."
   ]
  },
  {
   "cell_type": "markdown",
   "metadata": {},
   "source": [
    "## Import packages\n",
    "\n",
    "To begin with we need to import packages needed."
   ]
  },
  {
   "cell_type": "code",
   "execution_count": 12,
   "metadata": {},
   "outputs": [],
   "source": [
    "import numpy as np\n",
    "import sys\n",
    "sys.path.insert(0, '../../..')\n",
    "import harmonic as hm\n",
    "sys.path.append(\"../../../examples\")\n",
    "import utils\n",
    "import emcee\n",
    "import scipy.special as sp\n",
    "import time \n",
    "import matplotlib.pyplot as plt\n",
    "import gc "
   ]
  },
  {
   "cell_type": "markdown",
   "metadata": {},
   "source": [
    "## Define Bayesian posterior function\n",
    "\n",
    "Now we will need to define the log-posterior function of interest. \n",
    "\n",
    "As a working example for this basic tutorial we consider a log-likelihood given a standard 2-dimensional Gaussian\n",
    "\n",
    "$$\n",
    "f(x) = -\\frac{1}{2}x^{T}\\Sigma^{-1}x\n",
    "$$\n",
    "\n",
    "where for simplicity we have taken the mean $\\mu=0$ and dropped scaling factors, and assume a trivial uniform prior over an infinite interval. Under such conditions the log-posterior is given by"
   ]
  },
  {
   "cell_type": "code",
   "execution_count": 13,
   "metadata": {},
   "outputs": [],
   "source": [
    "def ln_posterior(x, inv_cov):\n",
    "    \"\"\"Compute log_e of posterior of n dimensional multivariate Gaussian.\n",
    "\n",
    "    Args:\n",
    "\n",
    "        x: Position at which to evaluate posterior.\n",
    "\n",
    "    Returns:\n",
    "\n",
    "        double: Value of posterior at x.\n",
    "\n",
    "    \"\"\"\n",
    "\n",
    "    return -np.dot(x,np.dot(inv_cov,x))/2.0"
   ]
  },
  {
   "cell_type": "markdown",
   "metadata": {},
   "source": [
    "## Compute samples using emcee\n",
    "\n",
    "We then sample from the posterior using an MCMC algorithm. While any MCMC approach can be used we sample using the [emcee](https://emcee.readthedocs.io/en/stable/) package.\n",
    "\n",
    "First we will need to define and initialise some variables."
   ]
  },
  {
   "cell_type": "code",
   "execution_count": 14,
   "metadata": {},
   "outputs": [],
   "source": [
    "# Define parameters for emcee sampling\n",
    "ndim = 2                    # Dimensions\n",
    "nchains = 200                # total number of chains to compute\n",
    "samples_per_chain = 5000    # number of samples per chain\n",
    "nburn = 2000                # number of samples to discard as burn in\n",
    "\n",
    "# Construct a trivial inverse covariance (identity matrix)\n",
    "inv_cov = np.zeros((ndim,ndim))\n",
    "diag_cov = np.ones(ndim)\n",
    "np.fill_diagonal(inv_cov, diag_cov)"
   ]
  },
  {
   "cell_type": "markdown",
   "metadata": {},
   "source": [
    "Now we need to run the sampler."
   ]
  },
  {
   "cell_type": "code",
   "execution_count": 15,
   "metadata": {},
   "outputs": [],
   "source": [
    "# initialise random seed\n",
    "np.random.seed(1)\n",
    "\n",
    "# Set initial random position and state\n",
    "pos = np.random.rand(ndim * nchains).reshape((nchains, ndim)) \n",
    "rstate = np.random.get_state()\n",
    "\n",
    "# Instantiate and execute sampler \n",
    "sampler = emcee.EnsembleSampler(nchains, ndim, ln_posterior, args=[inv_cov])\n",
    "(pos, prob, state) = sampler.run_mcmc(pos, samples_per_chain, rstate0=rstate) \n",
    "\n",
    "# Collect samples into contiguous numpy arrays (discarding burn in)\n",
    "samples = np.ascontiguousarray(sampler.chain[:,nburn:,:])\n",
    "lnprob = np.ascontiguousarray(sampler.lnprobability[:,nburn:])"
   ]
  },
  {
   "cell_type": "markdown",
   "metadata": {},
   "source": [
    "## Compute evidence using harmonic\n",
    "\n",
    "The harmonic package requires only posterior samples.  There are no constraints on the type of sampling algorithm used.\n",
    "\n",
    "Once we have posterior samples to hand, they can be post-processed using harmonic to compute the Bayesian evidence."
   ]
  },
  {
   "cell_type": "markdown",
   "metadata": {},
   "source": [
    "### Collating samples into harmonic\n",
    "\n",
    "We first configure the chains into a harmonic-friendly shape, which we do as follows."
   ]
  },
  {
   "cell_type": "code",
   "execution_count": 16,
   "metadata": {},
   "outputs": [],
   "source": [
    "# Instantiate harmonic's chains class \n",
    "chains = hm.Chains(ndim)\n",
    "chains.add_chains_3d(samples, lnprob)"
   ]
  },
  {
   "cell_type": "markdown",
   "metadata": {},
   "source": [
    "Since we will subsequently learn the target distribution $\\varphi$ we split the samples into training and inference sets (we often use the common machine learning terminology *test* for the inference data-set)."
   ]
  },
  {
   "cell_type": "code",
   "execution_count": 17,
   "metadata": {},
   "outputs": [],
   "source": [
    "# Split the chains into the ones which will be used to train and peform inference\n",
    "chains_train, chains_infer = hm.utils.split_data(chains, training_proportion=0.5)"
   ]
  },
  {
   "cell_type": "markdown",
   "metadata": {},
   "source": [
    "### Train the machine learning model\n",
    "\n",
    "For simplicity we will manually select hyper-parameters and train a machine learning model using `chains_train`. See other tutorials that use cross-validation to select hyper-parameters and different models.\n",
    "\n",
    "Simply select the model we wish to adopt and fit the model."
   ]
  },
  {
   "cell_type": "code",
   "execution_count": 18,
   "metadata": {},
   "outputs": [],
   "source": [
    "domains = [np.array([1E-1,1E1])]  # hyper-sphere bounding domain\n",
    "\n",
    "# Select model\n",
    "model = hm.model.HyperSphere(ndim, domains)\n",
    "\n",
    "# Train model\n",
    "fit_success = model.fit(chains_train.samples, chains_train.ln_posterior)"
   ]
  },
  {
   "cell_type": "markdown",
   "metadata": {},
   "source": [
    "### Compute the Bayesian evidence\n",
    "\n",
    "Finally we simply compute the learnt harmonic mean estimator as follows."
   ]
  },
  {
   "cell_type": "code",
   "execution_count": 19,
   "metadata": {},
   "outputs": [],
   "source": [
    "# Instantiate harmonic's evidence class\n",
    "ev = hm.Evidence(chains_infer.nchains, model)\n",
    "\n",
    "# Pass the evidence class the inference chains and compute the log of the evidence!\n",
    "ev.add_chains(chains_infer)\n",
    "evidence, evidence_std = ev.compute_evidence()"
   ]
  },
  {
   "cell_type": "markdown",
   "metadata": {},
   "source": [
    "## Results\n",
    "\n",
    "Let's check the evidence value computed and also plot the posterior."
   ]
  },
  {
   "cell_type": "markdown",
   "metadata": {},
   "source": [
    "### Numerical integration\n",
    "\n",
    "As this is a standard 2-dimensional Gaussian the evidence is analytic and given by"
   ]
  },
  {
   "cell_type": "code",
   "execution_count": 20,
   "metadata": {},
   "outputs": [],
   "source": [
    "def ln_analytic_evidence(ndim, cov):\n",
    "    \"\"\"Compute analytic evidence for nD Gaussian.\n",
    "\n",
    "    Args:\n",
    "\n",
    "        ndim: Dimension of Gaussian.\n",
    "\n",
    "        cov: Covariance matrix.\n",
    "\n",
    "    Returns:\n",
    "\n",
    "        double: Analytic evidence.\n",
    "\n",
    "    \"\"\"\n",
    "    \n",
    "    ln_norm_lik = 0.5*ndim*np.log(2*np.pi) + 0.5*np.log(np.linalg.det(cov))\n",
    "    return ln_norm_lik\n",
    "\n",
    "evidence_analytic = np.exp(ln_analytic_evidence(ndim, inv_cov))"
   ]
  },
  {
   "cell_type": "markdown",
   "metadata": {},
   "source": [
    "Let's compare the value computed by harmonic and by numerical integration."
   ]
  },
  {
   "cell_type": "code",
   "execution_count": 21,
   "metadata": {
    "scrolled": true
   },
   "outputs": [
    {
     "name": "stdout",
     "output_type": "stream",
     "text": [
      "evidence (harmonic) = 6.284739837844395 +/- 0.01510410316980982\n",
      "evidence (analytic) = 6.283185307179585\n",
      "nsigma = 0.10292108358453812\n"
     ]
    }
   ],
   "source": [
    "print('evidence (harmonic) = {} +/- {}'.format(evidence, evidence_std))\n",
    "print('evidence (analytic) = {}'.format(evidence_analytic))\n",
    "print('nsigma = {}'.format(np.abs(evidence - evidence_analytic) / evidence_std))"
   ]
  },
  {
   "cell_type": "markdown",
   "metadata": {},
   "source": [
    "As expected, the evidence computed by harmonic is close to that computed by numerical integration."
   ]
  },
  {
   "cell_type": "markdown",
   "metadata": {},
   "source": [
    "### Posterior triangle plot\n",
    "\n",
    "Out of interest let's also plot slices of the posterior using these samples to see what we're working with!"
   ]
  },
  {
   "cell_type": "code",
   "execution_count": 22,
   "metadata": {
    "scrolled": true
   },
   "outputs": [
    {
     "data": {
      "image/png": "[encoded data removed]",
      "text/plain": [
       "<Figure size 288x288 with 3 Axes>"
      ]
     },
     "metadata": {
      "needs_background": "light"
     },
     "output_type": "display_data"
    }
   ],
   "source": [
    "utils.plot_getdist(samples.reshape((-1, ndim)))"
   ]
  }
 ],
 "metadata": {
  "kernelspec": {
   "display_name": "Python 3",
   "language": "python",
   "name": "python3"
  },
  "language_info": {
   "codemirror_mode": {
    "name": "ipython",
    "version": 3
   },
   "file_extension": ".py",
   "mimetype": "text/x-python",
   "name": "python",
   "nbconvert_exporter": "python",
   "pygments_lexer": "ipython3",
   "version": "3.6.1"
  }
 },
 "nbformat": 4,
 "nbformat_minor": 4
}
