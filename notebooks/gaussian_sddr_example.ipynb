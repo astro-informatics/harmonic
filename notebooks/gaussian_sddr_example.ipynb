{
 "cells": [
  {
   "cell_type": "markdown",
   "metadata": {},
   "source": [
    "[![colab image](https://colab.research.google.com/assets/colab-badge.svg)](https://github.com/astro-informatics/harmonic/blob/main/notebooks/gaussian_sddr_exmple.ipynb)"
   ]
  },
  {
   "cell_type": "markdown",
   "metadata": {},
   "source": [
    "<center><img src=\"https://raw.githubusercontent.com/astro-informatics/harmonic/fa99200ddd9c942921439cfbadf30c6ede7226f3/docs/assets/harm_badge_simple.svg\" width=\"250\" height=\"250\"/>\n",
    "\n",
    "# [`harmonic`](https://github.com/astro-informatics/harmonic) - __SDDR__ Interactive Tutorial\n",
    "---\n",
    "\n",
    "In this interactive tutorial we demonstrate basic usage of `sddr`, using [`emcee`](https://emcee.readthedocs.io/en/stable/) as the sampler.\n",
    "\n",
    "\n",
    "\n"
   ]
  },
  {
   "cell_type": "code",
   "execution_count": null,
   "metadata": {},
   "outputs": [],
   "source": [
    "%%capture\n",
    "# Install packages\n",
    "%pip install harmonic emcee nautilus-sampler getdist"
   ]
  },
  {
   "cell_type": "code",
   "execution_count": 1,
   "metadata": {},
   "outputs": [],
   "source": [
    "import numpy as np\n",
    "import emcee\n",
    "from getdist import plots, MCSamples\n",
    "import matplotlib as mpl\n",
    "import matplotlib.pyplot as plt\n",
    "from scipy.stats import multivariate_normal, norm\n",
    "import harmonic as hm\n",
    "from nautilus import Prior, Sampler"
   ]
  },
  {
   "cell_type": "markdown",
   "metadata": {},
   "source": [
    "## Notebook outline\n",
    "\n",
    "We're going to calculate a SDDR with a simple Gaussian model\n",
    "\n",
    "First, let's define some helper functions\n"
   ]
  },
  {
   "cell_type": "code",
   "execution_count": 2,
   "metadata": {},
   "outputs": [],
   "source": [
    "def ln_likelihood(x, simulator, data, inv_cov):\n",
    "    x = np.atleast_2d(x)\n",
    "    r = data - simulator(x)\n",
    "    chi2 = np.einsum(\"ij,ij->i\", r, np.dot(inv_cov, r.T).T)\n",
    "    return -0.5 * chi2\n",
    "\n",
    "\n",
    "def ln_posterior(x, simulator, data, inv_cov, prior):\n",
    "    \"\"\"Compute the log posterior.\"\"\"\n",
    "    x = np.atleast_2d(x)\n",
    "    ln_posterior = ln_likelihood(x, simulator, data, inv_cov) + prior.logpdf(x)\n",
    "    return ln_posterior\n",
    "\n",
    "\n",
    "def init_diag_cov(ndim):\n",
    "    \"\"\"Initialise random diagonal covariance matrix.\n",
    "\n",
    "    Args:\n",
    "\n",
    "        ndim: Dimension of Gaussian.\n",
    "\n",
    "    Returns:\n",
    "\n",
    "        double ndarray[ndim, ndim]: Covariance matrix of shape (ndim,ndim).\n",
    "\n",
    "    \"\"\"\n",
    "\n",
    "    cov = np.zeros((ndim, ndim))\n",
    "    diag_cov = np.ones(ndim)\n",
    "    np.fill_diagonal(cov, diag_cov)\n",
    "\n",
    "    return cov\n",
    "\n",
    "\n",
    "def init_cov(ndim):\n",
    "    \"\"\"Initialise random non-diagonal covariance matrix.\n",
    "\n",
    "    Args:\n",
    "\n",
    "        ndim: Dimension of Gaussian.\n",
    "\n",
    "    Returns:\n",
    "\n",
    "        cov: Covariance matrix of shape (ndim,ndim).\n",
    "\n",
    "    \"\"\"\n",
    "\n",
    "    cov = np.zeros((ndim, ndim))\n",
    "    diag_cov = np.ones(ndim) + np.random.randn(ndim) * 0.1\n",
    "    np.fill_diagonal(cov, diag_cov)\n",
    "    off_diag_size = 0.5\n",
    "    for i in range(ndim - 1):\n",
    "        cov[i, i + 1] = (\n",
    "            (-1) ** i * off_diag_size * np.sqrt(cov[i, i] * cov[i + 1, i + 1])\n",
    "        )\n",
    "        cov[i + 1, i] = cov[i, i + 1]\n",
    "\n",
    "    return cov"
   ]
  },
  {
   "cell_type": "markdown",
   "metadata": {},
   "source": [
    "### MCMC functions"
   ]
  },
  {
   "cell_type": "code",
   "execution_count": 3,
   "metadata": {},
   "outputs": [],
   "source": [
    "def run_mcmc(\n",
    "    nchains, nparams, ln_posterior, mock_simulator, data, inv_cov, prior, samples_per_chain, nburn, \n",
    "):\n",
    "    pos = prior.rvs(nchains)\n",
    "\n",
    "    sampler = emcee.EnsembleSampler(\n",
    "        nwalkers=nchains,\n",
    "        ndim=nparams,\n",
    "        log_prob_fn=ln_posterior,\n",
    "        vectorize=True,\n",
    "        # moves=emcee.moves.StretchMove(),\n",
    "        args=[mock_simulator, data, inv_cov, prior],\n",
    "    )\n",
    "\n",
    "    sampler.run_mcmc(pos, samples_per_chain, progress=True)\n",
    "\n",
    "    samples = np.ascontiguousarray(sampler.chain[:, nburn:, :])\n",
    "    log_prob = np.ascontiguousarray(sampler.lnprobability[:, nburn:])\n",
    "    flat_samples, flat_weights = np.unique(\n",
    "        sampler.get_chain(flat=True), axis=0, return_counts=True\n",
    "    )\n",
    "    flat_log_prob, _ = np.unique(\n",
    "        sampler.get_log_prob(flat=True), axis=0, return_counts=True\n",
    "    )\n",
    "\n",
    "    samples = np.ascontiguousarray(sampler.chain[:, nburn:, :])\n",
    "    log_prob = np.ascontiguousarray(sampler.lnprobability[:, nburn:])\n",
    "\n",
    "    return flat_samples, flat_weights, flat_log_prob, samples, log_prob"
   ]
  },
  {
   "cell_type": "markdown",
   "metadata": {},
   "source": [
    "### Plotting function"
   ]
  },
  {
   "cell_type": "code",
   "execution_count": 4,
   "metadata": {},
   "outputs": [],
   "source": [
    "def triangle_plot(\n",
    "    mc_samples,\n",
    "    truth=None,\n",
    "    params_to_plot=None,\n",
    "    savefig=False,\n",
    "    filename=None,\n",
    "):\n",
    "    # Triangle plot\n",
    "    plt.close()\n",
    "    with mpl.rc_context():\n",
    "        # g = plots.getSubplotPlotter(width_inch=12)\n",
    "        g = plots.getSubplotPlotter()\n",
    "        g.settings.figure_legend_frame = False\n",
    "        g.settings.alpha_filled_add = 0.6\n",
    "        g.settings.axes_fontsize = 18\n",
    "        g.settings.legend_fontsize = 18\n",
    "        g.settings.lab_fontsize = 18\n",
    "        if params_to_plot:\n",
    "            g.triangle_plot(\n",
    "                mc_samples, params=params_to_plot, filled_compare=True, normalized=True\n",
    "            )\n",
    "        else:\n",
    "            g.triangle_plot(mc_samples, filled_compare=True, normalized=True)\n",
    "\n",
    "        if truth is not None:\n",
    "            g.add_param_markers(truth, color=\"black\", ls=\"--\")\n",
    "\n",
    "        plt.subplots_adjust(hspace=0, wspace=0)\n",
    "\n",
    "        if savefig:\n",
    "            plt.savefig(filename, bbox_inches=\"tight\")\n",
    "        plt.show()"
   ]
  },
  {
   "cell_type": "markdown",
   "metadata": {},
   "source": [
    "## Fix the seed\n"
   ]
  },
  {
   "cell_type": "code",
   "execution_count": 5,
   "metadata": {},
   "outputs": [],
   "source": [
    "np.random.seed(42)"
   ]
  },
  {
   "cell_type": "markdown",
   "metadata": {},
   "source": [
    "## Set priors\n",
    "\n",
    "Can be uniform or gaussian, here we use an uncorrelated Gaussian prior\n"
   ]
  },
  {
   "cell_type": "code",
   "execution_count": 6,
   "metadata": {},
   "outputs": [],
   "source": [
    "n_params = 5\n",
    "n_nested = 2\n",
    "\n",
    "means = np.zeros(n_params)\n",
    "prior_cov = np.diag(np.ones(n_params)*2.0 ** 2)\n",
    "inv_prior_cov = np.linalg.inv(prior_cov)\n",
    "prior = multivariate_normal(mean=means, cov=prior_cov)\n",
    "nested_prior = multivariate_normal(\n",
    "    mean=means[:-n_nested], cov=prior_cov[:-n_nested, :-n_nested]\n",
    ")\n",
    "marginal_prior = multivariate_normal(\n",
    "    mean=means[-n_nested:], cov=prior_cov[-n_nested:, -n_nested:]\n",
    ")"
   ]
  },
  {
   "cell_type": "markdown",
   "metadata": {},
   "source": [
    "## Create the Gaussian likelihood first \n",
    "\n",
    "In the case that we are considering, we will have a data vector that is 3 numbers long, and a super model with 5 parameters, and a nested model with 3 parameters.\n",
    "\n",
    "Shared parameters are denoted as $\\theta$, and the parameters that extend the nested model to the super parameter are denoted with $\\eta$. These are also the nested parameters. \n",
    "\n",
    "The corresponding Gaussian likelihood is given by\n",
    "\\begin{equation}\n",
    "\t\\mathcal{L}( \\bm{d} \\mid \\bm{\\theta}) = \\frac{\\exp\\bigl( -\\frac{1}{2} (\\bm{d} - \\bm{\\mu}(\\bm{\\theta, \\eta}))^\\text{T} \\Sigma^{-1} (\\bm{d} - \\bm{\\mu}(\\bm{\\theta, \\eta}) \\bigr)}{(2 \\pi)^{3/2}|\\Sigma|^{1/2}}. \n",
    "\\end{equation}\n",
    "\n",
    "For our super model, we have\n",
    "\\begin{align}\n",
    "\t\\bm{\\mu}(\\bm{\\theta, \\eta}) & = \\begin{bmatrix}\n",
    "                                            \\theta_1 + \\mathrm{arcsinh}(\\theta_4)\\\\\n",
    "                                            \\arctan(\\theta_2) + \\eta_1 \\\\\n",
    "                                            e^{0.5 \\times \\theta_3} + \\eta_2\n",
    "\t                                        \\end{bmatrix}.\n",
    "\\end{align}\n",
    "\n",
    "Whilst for the nested model, we fix $\\eta_1 = -2$ and $\\eta_2 = 0.2$."
   ]
  },
  {
   "cell_type": "code",
   "execution_count": 7,
   "metadata": {},
   "outputs": [],
   "source": [
    "ndata = 3\n",
    "cov = init_cov(ndata)\n",
    "inv_cov = np.linalg.inv(cov)\n",
    " \n",
    "theta_truth = np.array([0.0, -0.5, 0.5])\n",
    "eta_truth = np.array([1.0, 2.0])\n",
    "\n",
    "truth = np.concatenate((theta_truth, eta_truth))\n",
    "\n",
    "def mock_simulator(theta):\n",
    "    theta = np.atleast_2d(theta)\n",
    "    model_prediction = np.zeros((theta.shape[0], ndata))\n",
    "    model_prediction[:, 0] = theta[:, 0]\n",
    "    model_prediction[:, 1] = np.arcsinh(theta[:, 1]) + np.arctan(theta[:, 3])\n",
    "    model_prediction[:, 2] = np.exp(0.5 * theta[:, 2]) - theta[:, 4]\n",
    "    return model_prediction\n",
    "\n",
    "def nested_mock_simulator(theta):\n",
    "    theta = np.atleast_2d(theta)\n",
    "    model_prediction = np.zeros((theta.shape[0], ndata))\n",
    "    model_prediction[:, 0] = theta[:, 0]\n",
    "    model_prediction[:, 1] = np.arcsinh(theta[:, 1]) + np.arctan(eta_truth[0])\n",
    "    model_prediction[:, 2] = np.exp(0.5 * theta[:, 2]) - eta_truth[1]\n",
    "    return model_prediction"
   ]
  },
  {
   "cell_type": "markdown",
   "metadata": {},
   "source": [
    "## Generate some fake data with Gaussian noise\n"
   ]
  },
  {
   "cell_type": "code",
   "execution_count": 8,
   "metadata": {},
   "outputs": [],
   "source": [
    "noiseless_data = mock_simulator(truth)[0]\n",
    "data = np.random.multivariate_normal(noiseless_data, cov)"
   ]
  },
  {
   "cell_type": "markdown",
   "metadata": {},
   "source": [
    "## Get some posterior samples with emcee\n"
   ]
  },
  {
   "cell_type": "code",
   "execution_count": 9,
   "metadata": {},
   "outputs": [],
   "source": [
    "nchains = 100\n",
    "samples_per_chain = 6000\n",
    "nburn = 1000"
   ]
  },
  {
   "cell_type": "markdown",
   "metadata": {},
   "source": [
    "## Run MCMC for the larger model\n"
   ]
  },
  {
   "cell_type": "code",
   "execution_count": 10,
   "metadata": {},
   "outputs": [
    {
     "name": "stderr",
     "output_type": "stream",
     "text": [
      "100%|██████████| 6000/6000 [00:01<00:00, 4101.12it/s]\n"
     ]
    }
   ],
   "source": [
    "(\n",
    "    super_samples,\n",
    "    super_weights,\n",
    "    super_log_prob,\n",
    "    harmonic_super_samples,\n",
    "    harmonic_super_log_prob,\n",
    ") = run_mcmc(\n",
    "    nchains,\n",
    "    n_params,\n",
    "    ln_posterior,\n",
    "    mock_simulator,\n",
    "    noiseless_data,\n",
    "    inv_cov,\n",
    "    prior,\n",
    "    samples_per_chain, \n",
    "    nburn)"
   ]
  },
  {
   "cell_type": "markdown",
   "metadata": {},
   "source": [
    "## Run MCMC for the nested model\n",
    "\n",
    "Note that the outputs here contain samples in a flat format, and also split by chain to make it easier to ingest for harmonic later on in the script"
   ]
  },
  {
   "cell_type": "code",
   "execution_count": 11,
   "metadata": {},
   "outputs": [
    {
     "name": "stderr",
     "output_type": "stream",
     "text": [
      "100%|██████████| 6000/6000 [00:01<00:00, 4078.67it/s]\n"
     ]
    }
   ],
   "source": [
    "(\n",
    "    nested_samples,\n",
    "    nested_weights,\n",
    "    nested_log_prob,\n",
    "    harmonic_nested_samples,\n",
    "    harmonic_nested_log_prob,\n",
    ") = run_mcmc(\n",
    "    nchains,\n",
    "    n_params - n_nested,\n",
    "    ln_posterior,\n",
    "    nested_mock_simulator,\n",
    "    noiseless_data,\n",
    "    inv_cov,\n",
    "    nested_prior,\n",
    "    samples_per_chain, \n",
    "    nburn)"
   ]
  },
  {
   "cell_type": "markdown",
   "metadata": {},
   "source": [
    "## Plot!\n"
   ]
  },
  {
   "cell_type": "code",
   "execution_count": 12,
   "metadata": {},
   "outputs": [],
   "source": [
    "param_names = [f\"theta_{i+1}\" for i in range(n_params)]\n",
    "param_labels = [rf\"\\theta_{i+1}\" for i in range(n_params)]\n",
    "truth_marker = dict(zip(param_names, [truth[i] for i in range(n_params)]))"
   ]
  },
  {
   "cell_type": "markdown",
   "metadata": {},
   "source": [
    "### Make the getdist MC objects"
   ]
  },
  {
   "cell_type": "code",
   "execution_count": 13,
   "metadata": {},
   "outputs": [
    {
     "name": "stdout",
     "output_type": "stream",
     "text": [
      "Removed no burn in\n",
      "Removed no burn in\n"
     ]
    }
   ],
   "source": [
    "super_mc_samples = MCSamples(\n",
    "    samples=super_samples,\n",
    "    weights=super_weights,\n",
    "    names=param_names,\n",
    "    labels=param_labels,\n",
    "    label=\"Super model\",\n",
    "    sampler=\"mcmc\",\n",
    ")\n",
    "nested_mc_samples = MCSamples(\n",
    "    samples=nested_samples,\n",
    "    weights=nested_weights,\n",
    "    names=param_names[:-n_nested],\n",
    "    labels=param_labels[:-n_nested],\n",
    "    label=\"Nested model\",\n",
    "    sampler=\"mcmc\",\n",
    ")"
   ]
  },
  {
   "cell_type": "code",
   "execution_count": 14,
   "metadata": {},
   "outputs": [
    {
     "data": {
      "image/png": "[encoded data removed]",
      "text/plain": [
       "<Figure size 1000x1000 with 15 Axes>"
      ]
     },
     "metadata": {},
     "output_type": "display_data"
    }
   ],
   "source": [
    "triangle_plot(\n",
    "    [super_mc_samples, nested_mc_samples],\n",
    "    truth=truth_marker)"
   ]
  },
  {
   "cell_type": "markdown",
   "metadata": {},
   "source": [
    "## Now calculate the Savage Dickey Density Ratio for $\\eta_1$ and $\\eta_2$\n"
   ]
  },
  {
   "cell_type": "code",
   "execution_count": 15,
   "metadata": {},
   "outputs": [],
   "source": [
    "marginalised_samples = super_samples[:, -n_nested:]\n",
    "log_prior_prob = np.log(marginal_prior.pdf(eta_truth))"
   ]
  },
  {
   "cell_type": "markdown",
   "metadata": {},
   "source": [
    "## We can calculate the SDDR with a histogram"
   ]
  },
  {
   "cell_type": "code",
   "execution_count": 16,
   "metadata": {},
   "outputs": [
    {
     "name": "stderr",
     "output_type": "stream",
     "text": [
      "100%|██████████| 100/100 [00:02<00:00, 38.10it/s]"
     ]
    },
    {
     "name": "stdout",
     "output_type": "stream",
     "text": [
      "The Bayes factor calculated from the SDDR with the classical histogram model is: 0.9445 ± 0.2378\n"
     ]
    },
    {
     "name": "stderr",
     "output_type": "stream",
     "text": [
      "\n"
     ]
    }
   ],
   "source": [
    "histogram_model = hm.model_classical.HistogramModel(ndim=2, nbins=300)\n",
    "histogram_sddr = hm.sddr.sddr(model=histogram_model, samples=marginalised_samples)\n",
    "histogram_results = histogram_sddr.log_bayes_factor(log_prior=log_prior_prob,\n",
    "                                                    value=eta_truth,\n",
    "                                                    nbootstraps=100,\n",
    "                                                    bootstrap_proportion=0.5,\n",
    "                                                    bootstrap=True)\n",
    "\n",
    "print(\n",
    "    f\"The Bayes factor calculated from the SDDR with the classical histogram model is: {histogram_results['log_bf']:.4f} \\u00b1 {histogram_results['log_bf_std']:.4f}\"\n",
    ")"
   ]
  },
  {
   "cell_type": "markdown",
   "metadata": {},
   "source": [
    "## We can calculate the SDDR by learning the marginal posterior with a flow"
   ]
  },
  {
   "cell_type": "code",
   "execution_count": 17,
   "metadata": {},
   "outputs": [
    {
     "name": "stderr",
     "output_type": "stream",
     "text": [
      "100%|██████████| 10/10 [09:24<00:00, 56.49s/it]"
     ]
    },
    {
     "name": "stdout",
     "output_type": "stream",
     "text": [
      "The Bayes factor calculated from the SDDR with the normalising flow model is: 0.9248 ± 0.0408\n"
     ]
    },
    {
     "name": "stderr",
     "output_type": "stream",
     "text": [
      "\n"
     ]
    }
   ],
   "source": [
    "flow_model = hm.model.RQSplineModel(ndim_in=2, standardize=True, temperature=1.0)\n",
    "flow_sddr = hm.sddr.sddr(model=flow_model, samples=marginalised_samples)\n",
    "flow_results = flow_sddr.log_bayes_factor(log_prior=log_prior_prob,\n",
    "                                          value=eta_truth,\n",
    "                                          nbootstraps=10,\n",
    "                                          bootstrap_proportion=0.5,\n",
    "                                          bootstrap=True,\n",
    "                                          epochs=10)\n",
    "print(\n",
    "    f\"The Bayes factor calculated from the SDDR with the normalising flow model is: {flow_results['log_bf']:.4f} \\u00b1 {flow_results['log_bf_std']:.4f}\"\n",
    ")"
   ]
  },
  {
   "cell_type": "markdown",
   "metadata": {},
   "source": [
    "## Let's calculate evidence using nested sampling\n"
   ]
  },
  {
   "cell_type": "code",
   "execution_count": 18,
   "metadata": {},
   "outputs": [
    {
     "name": "stdout",
     "output_type": "stream",
     "text": [
      "Starting the nautilus sampler...\n",
      "Please report issues at github.com/johannesulf/nautilus.\n",
      "Status    | Bounds | Ellipses | Networks | Calls    | f_live | N_eff | log Z    \n",
      "Finished  | 11     | 1        | 4        | 24500    | N/A    | 12213 | -2.99    \n"
     ]
    },
    {
     "data": {
      "text/plain": [
       "True"
      ]
     },
     "execution_count": 18,
     "metadata": {},
     "output_type": "execute_result"
    }
   ],
   "source": [
    "nautilus_prior = Prior()\n",
    "\n",
    "for i in range(n_params):\n",
    "    nautilus_prior.add_parameter(\n",
    "        f\"theta_{i+1}\", dist=norm(means[i], np.sqrt(prior_cov[i, i]))\n",
    "    )\n",
    "\n",
    "\n",
    "def nautilus_likelihood(param_dict):\n",
    "    x = np.array([param_dict[f\"theta_{i+1}\"] for i in range(n_params)])\n",
    "    ln_like = ln_likelihood(\n",
    "        x, simulator=mock_simulator, data=noiseless_data, inv_cov=inv_cov\n",
    "    )[0]\n",
    "    return ln_like\n",
    "\n",
    "\n",
    "sampler = Sampler(nautilus_prior, nautilus_likelihood, n_live=2000)\n",
    "sampler.run(verbose=True)"
   ]
  },
  {
   "cell_type": "code",
   "execution_count": 19,
   "metadata": {},
   "outputs": [
    {
     "name": "stdout",
     "output_type": "stream",
     "text": [
      "Starting the nautilus sampler...\n",
      "Please report issues at github.com/johannesulf/nautilus.\n",
      "Status    | Bounds | Ellipses | Networks | Calls    | f_live | N_eff | log Z    \n",
      "Finished  | 10     | 1        | 4        | 21300    | N/A    | 10743 | -2.12    \n"
     ]
    },
    {
     "data": {
      "text/plain": [
       "True"
      ]
     },
     "execution_count": 19,
     "metadata": {},
     "output_type": "execute_result"
    }
   ],
   "source": [
    "nested_nautilus_prior = Prior()\n",
    "for i in range(n_params - n_nested):\n",
    "    nested_nautilus_prior.add_parameter(\n",
    "        f\"theta_{i+1}\", dist=norm(means[i], np.sqrt(prior_cov[i, i]))\n",
    "    )\n",
    "\n",
    "\n",
    "def nested_nautilus_likelihood(param_dict):\n",
    "    x = np.array([param_dict[f\"theta_{i+1}\"] for i in range(n_params - n_nested)])\n",
    "    ln_like = ln_likelihood(\n",
    "        x, simulator=nested_mock_simulator, data=noiseless_data, inv_cov=inv_cov\n",
    "    )[0]\n",
    "    return ln_like\n",
    "\n",
    "\n",
    "nested_sampler = Sampler(nested_nautilus_prior, nested_nautilus_likelihood, n_live=2000)\n",
    "nested_sampler.run(verbose=True)"
   ]
  },
  {
   "cell_type": "code",
   "execution_count": 20,
   "metadata": {},
   "outputs": [
    {
     "name": "stdout",
     "output_type": "stream",
     "text": [
      "The log evidence from Nautilus is: -2.9918 ± 0.0090\n",
      "The log evidence for the nested model from Nautilus is: -2.1171 ± 0.0096\n",
      "The Bayes factor from Nautilus is: 0.8747 ± 0.0132\n"
     ]
    }
   ],
   "source": [
    "print(\n",
    "    f\"The log evidence from Nautilus is: {sampler.log_z:.4f} \\u00b1 {1/np.sqrt(sampler.n_eff):.4f}\"\n",
    ")\n",
    "print(\n",
    "    f\"The log evidence for the nested model from Nautilus is: {nested_sampler.log_z:.4f} \\u00b1 {1/np.sqrt(nested_sampler.n_eff):.4f}\"\n",
    ")\n",
    "print(\n",
    "    f\"The Bayes factor from Nautilus is: {nested_sampler.log_z - sampler.log_z:.4f} \\u00b1 {np.sqrt(1/sampler.n_eff + 1/nested_sampler.n_eff):.4f}\"\n",
    ")"
   ]
  },
  {
   "cell_type": "markdown",
   "metadata": {},
   "source": [
    "## Repeat the evidence calculation but now using harmonic"
   ]
  },
  {
   "cell_type": "markdown",
   "metadata": {},
   "source": [
    "### Configure some machine learning parameters\n"
   ]
  },
  {
   "cell_type": "code",
   "execution_count": 21,
   "metadata": {},
   "outputs": [],
   "source": [
    "training_proportion = 0.5\n",
    "temperature = 0.9\n",
    "standardize = True\n",
    "flow_type = \"RQSpline\"\n",
    "epochs_num = 10"
   ]
  },
  {
   "cell_type": "markdown",
   "metadata": {},
   "source": [
    "### Function to run harmonic\n"
   ]
  },
  {
   "cell_type": "code",
   "execution_count": 22,
   "metadata": {},
   "outputs": [],
   "source": [
    "def run_harmonic(\n",
    "    samples,\n",
    "    log_prob,\n",
    "    nparams,\n",
    "    training_proportion,\n",
    "    epochs_num,\n",
    "    temperature,\n",
    "    standardize,\n",
    "):\n",
    "    # ===================================================================\n",
    "    # Configure emcee chains for harmonic\n",
    "    # ===================================================================\n",
    "    hm.logs.info_log(\"Configure chains...\")\n",
    "    \"\"\"\n",
    "    Configure chains for the cross-validation stage.\n",
    "    \"\"\"\n",
    "    chains = hm.Chains(nparams)\n",
    "    chains.add_chains_3d(samples, log_prob)\n",
    "    chains_train, chains_test = hm.utils.split_data(\n",
    "        chains, training_proportion=training_proportion\n",
    "    )\n",
    "\n",
    "    # =======================================================================\n",
    "    # Fit model\n",
    "    # =======================================================================\n",
    "    hm.logs.info_log(\"Fit model for {} epochs...\".format(epochs_num))\n",
    "    model = hm.model.RQSplineModel(\n",
    "        nparams, standardize=standardize, temperature=temperature\n",
    "    )\n",
    "    model.fit(chains_train.samples, epochs=epochs_num)\n",
    "\n",
    "    # ===================================================================\n",
    "    # Computing evidence using learnt model and emcee chains\n",
    "    # ===================================================================\n",
    "    hm.logs.info_log(\"Compute evidence...\")\n",
    "    \"\"\"\n",
    "    Instantiates the evidence class with a given model. Adds some chains \n",
    "    and computes the log-space evidence (marginal likelihood).\n",
    "    \"\"\"\n",
    "    ev = hm.Evidence(chains_test.nchains, model)\n",
    "    ev.add_chains(chains_test)\n",
    "    ln_evidence, _ = ev.compute_ln_evidence()\n",
    "    ln_evidence_err_neg, ln_evidence_err_pos = ev.compute_ln_inv_evidence_errors()\n",
    "\n",
    "    return ln_evidence, ln_evidence_err_neg, ln_evidence_err_pos"
   ]
  },
  {
   "cell_type": "code",
   "execution_count": 23,
   "metadata": {},
   "outputs": [],
   "source": [
    "chains = hm.Chains(n_params)\n",
    "chains.add_chains_3d(harmonic_super_samples, harmonic_super_log_prob)"
   ]
  },
  {
   "cell_type": "code",
   "execution_count": 24,
   "metadata": {},
   "outputs": [],
   "source": [
    "harmonic_ln_evidence, harmonic_ln_ev_err_neg, harmonic_ln_ev_err_pos = run_harmonic(\n",
    "    samples=harmonic_super_samples,\n",
    "    log_prob=harmonic_super_log_prob,\n",
    "    nparams=n_params,\n",
    "    training_proportion=training_proportion,\n",
    "    epochs_num=epochs_num,\n",
    "    temperature=temperature,\n",
    "    standardize=standardize\n",
    "    )"
   ]
  },
  {
   "cell_type": "code",
   "execution_count": 25,
   "metadata": {},
   "outputs": [],
   "source": [
    "(\n",
    "    harmonic_nested_ln_evidence,\n",
    "    harmonic_nested_ln_ev_err_neg,\n",
    "    harmonic_nested_ln_ev_err_pos,\n",
    ") = run_harmonic(\n",
    "    samples=harmonic_nested_samples,\n",
    "    log_prob=harmonic_nested_log_prob,\n",
    "    nparams=n_params - n_nested,\n",
    "    training_proportion=training_proportion,\n",
    "    epochs_num=epochs_num,\n",
    "    temperature=temperature,\n",
    "    standardize=standardize\n",
    "    )"
   ]
  },
  {
   "cell_type": "code",
   "execution_count": 26,
   "metadata": {},
   "outputs": [
    {
     "name": "stdout",
     "output_type": "stream",
     "text": [
      "The log evidence from Harmonic is: -3.0109 (+0.0024,-0.0024)\n",
      "The log evidence for the nested model from Harmonic is: -2.1004 (+0.0016,-0.0016)\n",
      "The log evidence ratio from Harmonic is: 0.9105 (+0.0028,-0.0028)\n"
     ]
    }
   ],
   "source": [
    "print(\n",
    "    f\"The log evidence from Harmonic is: {harmonic_ln_evidence:.4f} (+{harmonic_ln_ev_err_pos:.4f},{harmonic_ln_ev_err_neg:.4f})\"\n",
    ")\n",
    "print(\n",
    "    f\"The log evidence for the nested model from Harmonic is: {harmonic_nested_ln_evidence:.4f} (+{harmonic_nested_ln_ev_err_pos:.4f},{harmonic_nested_ln_ev_err_neg:.4f})\"\n",
    ")\n",
    "print(\n",
    "    f\"The log evidence ratio from Harmonic is: {harmonic_nested_ln_evidence - harmonic_ln_evidence:.4f} (+{np.sqrt(harmonic_nested_ln_ev_err_pos**2+harmonic_ln_ev_err_pos**2):.4f},-{np.sqrt(harmonic_nested_ln_ev_err_neg**2+harmonic_ln_ev_err_neg**2):.4f})\"\n",
    ")"
   ]
  },
  {
   "cell_type": "markdown",
   "metadata": {},
   "source": [
    "## The results in a table"
   ]
  },
  {
   "cell_type": "markdown",
   "metadata": {},
   "source": [
    "| Method        | Log Evidence (Full Model) | Log Evidence (Nested Model) | Bayes Factor        |\n",
    "| ------------- | ------------------------- | --------------------------- | ------------------- |\n",
    "| Nautilus      | $-2.9918 \\pm 0.0090$      | $-2.1171 \\pm 0.0096$        | $0.8747 \\pm 0.0132$ |\n",
    "| Harmonic      | $-3.0109 \\pm 0.0024$      | $-2.1004 \\pm 0.0016$        | $0.9105 \\pm 0.0028$ |\n",
    "| Flow SDDR     | N/A                       | N/A                         | $0.9248 \\pm 0.0408$ |\n",
    "| Hist SDDR     | N/A                       | N/A                         | $0.9445 \\pm 0.2378$ |"
   ]
  }
 ],
 "metadata": {
  "kernelspec": {
   "display_name": "harmonic-sddr",
   "language": "python",
   "name": "python3"
  },
  "language_info": {
   "codemirror_mode": {
    "name": "ipython",
    "version": 3
   },
   "file_extension": ".py",
   "mimetype": "text/x-python",
   "name": "python",
   "nbconvert_exporter": "python",
   "pygments_lexer": "ipython3",
   "version": "3.11.11"
  }
 },
 "nbformat": 4,
 "nbformat_minor": 2
}
